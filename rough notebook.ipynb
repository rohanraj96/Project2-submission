{
 "cells": [
  {
   "cell_type": "code",
   "execution_count": 91,
   "metadata": {},
   "outputs": [],
   "source": [
    "import matplotlib.pyplot as plt\n",
    "import numpy as np\n",
    "%matplotlib inline"
   ]
  },
  {
   "cell_type": "code",
   "execution_count": 79,
   "metadata": {},
   "outputs": [],
   "source": [
    "import pickle\n",
    "\n",
    "training_file = 'train.p'\n",
    "\n",
    "with open(training_file, mode='rb') as f:\n",
    "    train = pickle.load(f)\n",
    "\n",
    "    \n",
    "X_train, y_train = train['features'], train['labels']"
   ]
  },
  {
   "cell_type": "code",
   "execution_count": 93,
   "metadata": {},
   "outputs": [],
   "source": [
    "def get_indices(y):\n",
    "    initial = 0\n",
    "    current = 0\n",
    "    index = []\n",
    "    index.append(current)\n",
    "    for indices in range(len(y)):\n",
    "        if y[current] == y[initial]:\n",
    "            current += 1\n",
    "        else:\n",
    "            index.append(current)\n",
    "            initial = current\n",
    "        \n",
    "    return index"
   ]
  },
  {
   "cell_type": "code",
   "execution_count": 95,
   "metadata": {},
   "outputs": [
    {
     "data": {
      "text/plain": [
       "[0,\n",
       " 210,\n",
       " 900,\n",
       " 1230,\n",
       " 1770,\n",
       " 2220,\n",
       " 4200,\n",
       " 4500,\n",
       " 4830,\n",
       " 5010,\n",
       " 5370,\n",
       " 6630,\n",
       " 6810,\n",
       " 8580,\n",
       " 9750,\n",
       " 9960,\n",
       " 10140,\n",
       " 10350,\n",
       " 10560,\n",
       " 10800,\n",
       " 11040,\n",
       " 12360,\n",
       " 14010,\n",
       " 15870,\n",
       " 17130,\n",
       " 18930,\n",
       " 20010,\n",
       " 20370,\n",
       " 21450,\n",
       " 21810,\n",
       " 23730,\n",
       " 25020,\n",
       " 25410,\n",
       " 25680,\n",
       " 25950,\n",
       " 26250,\n",
       " 26849,\n",
       " 27329,\n",
       " 29219,\n",
       " 29909,\n",
       " 30449,\n",
       " 31439,\n",
       " 33449]"
      ]
     },
     "execution_count": 95,
     "metadata": {},
     "output_type": "execute_result"
    }
   ],
   "source": [
    "ix = get_indices(y_train)\n",
    "ix"
   ]
  },
  {
   "cell_type": "code",
   "execution_count": null,
   "metadata": {},
   "outputs": [],
   "source": []
  },
  {
   "cell_type": "code",
   "execution_count": null,
   "metadata": {},
   "outputs": [],
   "source": []
  },
  {
   "cell_type": "code",
   "execution_count": null,
   "metadata": {},
   "outputs": [],
   "source": []
  },
  {
   "cell_type": "code",
   "execution_count": null,
   "metadata": {},
   "outputs": [],
   "source": []
  },
  {
   "cell_type": "code",
   "execution_count": null,
   "metadata": {},
   "outputs": [],
   "source": []
  },
  {
   "cell_type": "code",
   "execution_count": null,
   "metadata": {},
   "outputs": [],
   "source": []
  },
  {
   "cell_type": "code",
   "execution_count": null,
   "metadata": {},
   "outputs": [],
   "source": []
  },
  {
   "cell_type": "code",
   "execution_count": null,
   "metadata": {},
   "outputs": [],
   "source": []
  }
 ],
 "metadata": {
  "anaconda-cloud": {},
  "kernelspec": {
   "display_name": "Python 3",
   "language": "python",
   "name": "python3"
  },
  "language_info": {
   "codemirror_mode": {
    "name": "ipython",
    "version": 3
   },
   "file_extension": ".py",
   "mimetype": "text/x-python",
   "name": "python",
   "nbconvert_exporter": "python",
   "pygments_lexer": "ipython3",
   "version": "3.5.2"
  },
  "widgets": {
   "state": {},
   "version": "1.1.2"
  }
 },
 "nbformat": 4,
 "nbformat_minor": 1
}
